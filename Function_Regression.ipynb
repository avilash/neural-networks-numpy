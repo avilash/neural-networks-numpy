{
  "nbformat": 4,
  "nbformat_minor": 0,
  "metadata": {
    "colab": {
      "name": "Function Regression.ipynb",
      "version": "0.3.2",
      "provenance": [],
      "collapsed_sections": [
        "97c9ZW1T4xyW",
        "lBl5zths4lkf",
        "gBWqCuKTUFSx",
        "d4QVJ_HbS7Ff",
        "NhaDwRn8TCQK"
      ],
      "include_colab_link": true
    },
    "kernelspec": {
      "name": "python3",
      "display_name": "Python 3"
    }
  },
  "cells": [
    {
      "cell_type": "markdown",
      "metadata": {
        "id": "view-in-github",
        "colab_type": "text"
      },
      "source": [
        "<a href=\"https://colab.research.google.com/github/avilash/neural-networks-numpy/blob/master/Function_Regression.ipynb\" target=\"_parent\"><img src=\"https://colab.research.google.com/assets/colab-badge.svg\" alt=\"Open In Colab\"/></a>"
      ]
    },
    {
      "cell_type": "markdown",
      "metadata": {
        "id": "l2RiubY0VHSx",
        "colab_type": "text"
      },
      "source": [
        "This notebook trains a feed-forward neural network only in **numpy** to overfit to a standard mathematical function (in this case the **sine**) in a given range"
      ]
    },
    {
      "cell_type": "markdown",
      "metadata": {
        "id": "s60Hhc1WUNXa",
        "colab_type": "text"
      },
      "source": [
        "## Imports"
      ]
    },
    {
      "cell_type": "code",
      "metadata": {
        "id": "-T4u_C4nSbGu",
        "colab_type": "code",
        "colab": {}
      },
      "source": [
        "import numpy as np\n",
        "import matplotlib.pyplot as plt"
      ],
      "execution_count": 0,
      "outputs": []
    },
    {
      "cell_type": "markdown",
      "metadata": {
        "id": "97c9ZW1T4xyW",
        "colab_type": "text"
      },
      "source": [
        "## Model Forward and Backward"
      ]
    },
    {
      "cell_type": "code",
      "metadata": {
        "id": "Wud99NehVBEX",
        "colab_type": "code",
        "colab": {}
      },
      "source": [
        "def act(x):\n",
        "  return np.maximum(x, 0.)"
      ],
      "execution_count": 0,
      "outputs": []
    },
    {
      "cell_type": "code",
      "metadata": {
        "id": "tLLN7hE_33zU",
        "colab_type": "code",
        "colab": {}
      },
      "source": [
        "def act_back(incoming_gradient, activation):\n",
        "  incoming_gradient[activation == 0.] = 0.\n",
        "  return incoming_gradient"
      ],
      "execution_count": 0,
      "outputs": []
    },
    {
      "cell_type": "code",
      "metadata": {
        "id": "XgONq8c1S4iF",
        "colab_type": "code",
        "colab": {}
      },
      "source": [
        "def create_model(layer_sizes, input_size, output_size):\n",
        "  model = []\n",
        "  current_input_size = input_size\n",
        "  for i, layer_size in enumerate(layer_sizes):\n",
        "    layer = {}\n",
        "    layer[\"W\"] = np.random.randn(current_input_size, layer_size) / np.sqrt(current_input_size)\n",
        "    layer[\"b\"] = np.zeros(layer_size, dtype=np.float32)\n",
        "    model.append(layer)\n",
        "    current_input_size = layer_size\n",
        "    \n",
        "  layer = {}\n",
        "  layer[\"W\"] = np.random.randn(current_input_size, output_size) / np.sqrt(current_input_size)\n",
        "  layer[\"b\"] = np.zeros(output_size, dtype=np.float32)\n",
        "  model.append(layer)\n",
        "\n",
        "  return model"
      ],
      "execution_count": 0,
      "outputs": []
    },
    {
      "cell_type": "code",
      "metadata": {
        "id": "Zu7hqIF0Tc8h",
        "colab_type": "code",
        "colab": {}
      },
      "source": [
        "def forward(input, model):\n",
        "  model_len = len(model)\n",
        "    \n",
        "  activations = []\n",
        "  current_act = input\n",
        "  activations.append(current_act)\n",
        " \n",
        "  \n",
        "  for i in range(model_len-1):\n",
        "    layer = model[i]\n",
        "    # print (\"prev_A = {}, W = {}, B = {}\".format(current_act.shape, layer['W'].shape, layer['b'].shape))\n",
        "    current_act = act(np.matmul(current_act, layer['W']) + layer['b'])\n",
        "    # print (\"A = {}\".format(current_act.shape))\n",
        "    activations.append(current_act)\n",
        "\n",
        "  layer = model[model_len-1]\n",
        "  # print (\"prev_A = {}, W = {}, B = {}\".format(current_act.shape, layer['W'].shape, layer['b'].shape))\n",
        "  pred = np.matmul(current_act, layer['W']) + layer['b']\n",
        "  # print (\"A = {}\".format(pred.shape))\n",
        "  activations.append(pred)\n",
        "  \n",
        "  \n",
        "  return activations, pred"
      ],
      "execution_count": 0,
      "outputs": []
    },
    {
      "cell_type": "code",
      "metadata": {
        "id": "J3WHjZYvaCLI",
        "colab_type": "code",
        "colab": {}
      },
      "source": [
        "def backward(gradient, activations, model):\n",
        "  gradients = []\n",
        "  Z_grad = gradient.copy()\n",
        "    \n",
        "  activation_len = len(activations)\n",
        "  \n",
        "  for i in range(activation_len-2, -1, -1):\n",
        "    grad = {}\n",
        "    prev_A = activations[i]\n",
        "    W = model[i]['W']\n",
        "    grad['W'] = prev_A.T.dot(Z_grad)\n",
        "    grad['b'] = np.sum(Z_grad, axis=0)\n",
        "    grad['A'] = Z_grad.dot(W.T)\n",
        "    gradients.insert(0, grad)\n",
        "    Z_grad = grad['A'].copy()\n",
        "    Z_grad = act_back(Z_grad, prev_A)\n",
        "    \n",
        "  return gradients\n",
        "  "
      ],
      "execution_count": 0,
      "outputs": []
    },
    {
      "cell_type": "code",
      "metadata": {
        "id": "ZJ6neixzh0vb",
        "colab_type": "code",
        "colab": {}
      },
      "source": [
        "def ms_loss(y_pred, y):\n",
        "  loss = np.square(y_pred - y)\n",
        "  return loss"
      ],
      "execution_count": 0,
      "outputs": []
    },
    {
      "cell_type": "code",
      "metadata": {
        "id": "XDASsqyPnzht",
        "colab_type": "code",
        "colab": {}
      },
      "source": [
        "def ms_loss_back(y_pred, y):\n",
        "  loss_back = 2*(y_pred-y)\n",
        "  return loss_back"
      ],
      "execution_count": 0,
      "outputs": []
    },
    {
      "cell_type": "markdown",
      "metadata": {
        "id": "lBl5zths4lkf",
        "colab_type": "text"
      },
      "source": [
        "## Data Generation"
      ]
    },
    {
      "cell_type": "code",
      "metadata": {
        "id": "ElDyYxryWl47",
        "colab_type": "code",
        "colab": {}
      },
      "source": [
        "def generate_data():\n",
        "  x = np.linspace(-1.0*np.pi, 1.0*np.pi, num=20000)\n",
        "  e = np.random.normal(0, 0.005, x.size)\n",
        "  y_f = np.sin(x)\n",
        "  y = np.sin(x) + e\n",
        "  return x, y_f, y"
      ],
      "execution_count": 0,
      "outputs": []
    },
    {
      "cell_type": "code",
      "metadata": {
        "id": "TLKngxZLXVWR",
        "colab_type": "code",
        "colab": {}
      },
      "source": [
        "def plot_data(x, y_f, y):\n",
        "  fig, ax = plt.subplots()\n",
        "  if y_f is not None:\n",
        "    ax.plot(x, y_f)\n",
        "  ax.scatter(x, y, s=1)\n",
        "  plt.show()"
      ],
      "execution_count": 0,
      "outputs": []
    },
    {
      "cell_type": "code",
      "metadata": {
        "id": "kDSUTbcjaf2A",
        "colab_type": "code",
        "colab": {}
      },
      "source": [
        "def split_train_test(x, y, test_percentage):\n",
        "  x_size = x.shape[0]\n",
        "  test_size = int(round(test_percentage/100.*x_size))\n",
        "  indices = np.random.permutation(x.shape[0])\n",
        "  test_idx, train_idx = indices[:test_size], indices[test_size:]\n",
        "  x_test, x_train = x[test_idx], x[train_idx]\n",
        "  y_test, y_train = y[test_idx], y[train_idx]\n",
        "  \n",
        "  return x_train, y_train, x_test, y_test"
      ],
      "execution_count": 0,
      "outputs": []
    },
    {
      "cell_type": "code",
      "metadata": {
        "id": "sIJnUlN0-leB",
        "colab_type": "code",
        "outputId": "3caa89f7-499b-4ce9-dc7e-63f7ef203a8f",
        "colab": {
          "base_uri": "https://localhost:8080/",
          "height": 269
        }
      },
      "source": [
        "x, y_f, y = generate_data()\n",
        "x_train, y_train, x_test, y_test = split_train_test(x, y, 0.)\n",
        "plot_data(x_train, None, y_train)"
      ],
      "execution_count": 0,
      "outputs": [
        {
          "output_type": "display_data",
          "data": {
            "image/png": "[encoded data removed]",
            "text/plain": [
              "<Figure size 432x288 with 1 Axes>"
            ]
          },
          "metadata": {
            "tags": []
          }
        }
      ]
    },
    {
      "cell_type": "markdown",
      "metadata": {
        "id": "4NfjBP6X4q-I",
        "colab_type": "text"
      },
      "source": [
        "## Training Procedure"
      ]
    },
    {
      "cell_type": "markdown",
      "metadata": {
        "id": "gBWqCuKTUFSx",
        "colab_type": "text"
      },
      "source": [
        "### Weight Update"
      ]
    },
    {
      "cell_type": "code",
      "metadata": {
        "colab_type": "code",
        "id": "G2Z7LnOkDARK",
        "colab": {}
      },
      "source": [
        "def update_weights(model, gradients, lr = 0.001):\n",
        "  for i, grad in enumerate(gradients):\n",
        "    model[i]['W'] -= lr*grad['W']\n",
        "    model[i]['b'] -= lr*grad['b']\n",
        "      \n",
        "  return model"
      ],
      "execution_count": 0,
      "outputs": []
    },
    {
      "cell_type": "code",
      "metadata": {
        "id": "AGT8WBA4FWMU",
        "colab_type": "code",
        "colab": {}
      },
      "source": [
        "def init_rmsprop_params(model):\n",
        "  rmsprop_params = []\n",
        "  for layer in model:\n",
        "    rmsprop_param = {}\n",
        "    rmsprop_param['W'] = np.zeros_like(layer['W'])\n",
        "    rmsprop_param['b'] = np.zeros_like(layer['b'])\n",
        "    rmsprop_params.append(rmsprop_param)\n",
        "  \n",
        "  return rmsprop_params"
      ],
      "execution_count": 0,
      "outputs": []
    },
    {
      "cell_type": "code",
      "metadata": {
        "id": "SzuLxvJIDA8B",
        "colab_type": "code",
        "colab": {}
      },
      "source": [
        "def update_weights_rmsprop(model, gradients, rmsprop_params, lr = 0.001, beta=0.9):\n",
        "  for i, grad in enumerate(gradients):\n",
        "    v = beta*rmsprop_params[i]['W'] + (1.-beta)*np.square(grad['W'])\n",
        "    model[i]['W'] -= (lr*grad['W'] / np.sqrt(v + 1e-14))\n",
        "    rmsprop_params[i]['W'] = v\n",
        "    \n",
        "    v = beta*rmsprop_params[i]['b'] + (1.-beta)*np.square(grad['b'])\n",
        "    model[i]['b'] -= (lr*grad['b'] / np.sqrt(v + 1e-14))\n",
        "    rmsprop_params[i]['b'] = v\n",
        "      \n",
        "  return model, rmsprop_params"
      ],
      "execution_count": 0,
      "outputs": []
    },
    {
      "cell_type": "markdown",
      "metadata": {
        "id": "d4QVJ_HbS7Ff",
        "colab_type": "text"
      },
      "source": [
        "### Gradient check"
      ]
    },
    {
      "cell_type": "code",
      "metadata": {
        "id": "fIeDu9MNM10z",
        "colab_type": "code",
        "colab": {}
      },
      "source": [
        "def rel_error(x, y):\n",
        "    \"\"\" returns relative error \"\"\"\n",
        "    return np.max(np.abs(x - y) / (np.maximum(1e-8, np.abs(x) + np.abs(y))))"
      ],
      "execution_count": 0,
      "outputs": []
    },
    {
      "cell_type": "code",
      "metadata": {
        "id": "at3QukeGZ_oc",
        "colab_type": "code",
        "colab": {}
      },
      "source": [
        "def grad_check(model, gradients, x_batch, y_batch):\n",
        "  layer = 0\n",
        "  layer_x = 0\n",
        "  layer_y = 0\n",
        "  grad_num = gradients[layer]['W'][layer_x][layer_y]\n",
        "\n",
        "  h = 0.00001\n",
        "  oldval = model[layer]['W'][layer_x][layer_y]\n",
        "  model[layer]['W'][layer_x][layer_y] = oldval - h\n",
        "  _ , y_pred1 = forward(x_batch, model)\n",
        "  loss1 = ms_loss(y_pred1, y_batch)\n",
        "  model[layer]['W'][layer_x][layer_y] = oldval + h\n",
        "  _ , y_pred2 = forward(x_batch, model)\n",
        "  loss2 = ms_loss(y_pred2, y_batch)\n",
        "  grad_ana = (loss2 - loss1) / (2.*h)\n",
        "  grad_ana = np.sum(grad_ana)\n",
        "  \n",
        "  model[layer]['W'][layer_x][layer_y] = oldval\n",
        "\n",
        "  error = rel_error(grad_num, grad_ana)\n",
        "  return error"
      ],
      "execution_count": 0,
      "outputs": []
    },
    {
      "cell_type": "markdown",
      "metadata": {
        "id": "NhaDwRn8TCQK",
        "colab_type": "text"
      },
      "source": [
        "### Training/Test Loop"
      ]
    },
    {
      "cell_type": "code",
      "metadata": {
        "id": "aIg3R-NWX68l",
        "colab_type": "code",
        "outputId": "52fbb7b2-0cae-4128-b57a-1fd331825864",
        "colab": {
          "base_uri": "https://localhost:8080/",
          "height": 495
        }
      },
      "source": [
        "D_in, D_out = 1, 1\n",
        "hidden_layers = [100]\n",
        "model = create_model(hidden_layers, D_in, D_out)\n",
        "rmsprop_params = init_rmsprop_params(model)\n",
        "net_size = len(hidden_layers)\n",
        "\n",
        "train_size = x_train.shape[0]\n",
        "test_size = x_test.shape[0]\n",
        "\n",
        "batch_start = 0\n",
        "batch_end = 0\n",
        "\n",
        "epochs = 500\n",
        "batch_size = 1000\n",
        "num_batches = int(round(train_size / batch_size))\n",
        "\n",
        "should_grad_check = True\n",
        "if should_grad_check:\n",
        "  x_batch = np.expand_dims(x_train[0:batch_size], axis=1)\n",
        "  y_batch = np.expand_dims(y_train[0:batch_size], axis=1)\n",
        "  activations, y_pred = forward(x_batch, model)\n",
        "  loss = ms_loss(y_pred, y_batch).mean()\n",
        "  loss_grad = ms_loss_back(y_pred, y_batch)\n",
        "  gradients = backward(loss_grad, activations, model)\n",
        "  err = grad_check(model, gradients, x_batch, y_batch)\n",
        "  print (\"Gradient Check - Rel Error = {} \\n\".format(err))\n",
        "\n",
        "loss_summary = 0\n",
        "for epoch in range(epochs):\n",
        "  loss = 0\n",
        "  for i in range(num_batches):\n",
        "    batch_start = (i%num_batches)*batch_size\n",
        "    batch_end = min(train_size, batch_start+batch_size)\n",
        "    x_batch = np.expand_dims(x_train[batch_start:batch_end], axis=1)\n",
        "    y_batch = np.expand_dims(y_train[batch_start:batch_end], axis=1)\n",
        "\n",
        "    activations, y_pred = forward(x_batch, model)\n",
        "\n",
        "    loss += ms_loss(y_pred, y_batch).mean()\n",
        "\n",
        "    loss_grad = ms_loss_back(y_pred, y_batch)\n",
        "\n",
        "    gradients = backward(loss_grad, activations, model)\n",
        "        \n",
        "    model, rmsprop_params = update_weights_rmsprop(model, gradients, rmsprop_params, lr=0.0001)\n",
        "  \n",
        "  if (epoch+1)%20 == 0:\n",
        "    print (\"Epoch {} Loss = {}\".format(epoch+1, loss/num_batches))\n",
        "    loss_summary = 0\n",
        "  else:\n",
        "    loss_summary += loss"
      ],
      "execution_count": 0,
      "outputs": [
        {
          "output_type": "stream",
          "text": [
            "Gradient Check - Rel Error = 4.406373888546297e-12 \n",
            "\n",
            "Epoch 20 Loss = 0.16657028565528886\n",
            "Epoch 40 Loss = 0.12172470833960478\n",
            "Epoch 60 Loss = 0.0813841244265466\n",
            "Epoch 80 Loss = 0.0558919694905186\n",
            "Epoch 100 Loss = 0.04158196896866\n",
            "Epoch 120 Loss = 0.028978750969706302\n",
            "Epoch 140 Loss = 0.01757701242794659\n",
            "Epoch 160 Loss = 0.00882320230309065\n",
            "Epoch 180 Loss = 0.0036351146952212235\n",
            "Epoch 200 Loss = 0.0012984278416177768\n",
            "Epoch 220 Loss = 0.000510946875716817\n",
            "Epoch 240 Loss = 0.00024393252506375849\n",
            "Epoch 260 Loss = 0.00015341435018136849\n",
            "Epoch 280 Loss = 0.00010897929033152397\n",
            "Epoch 300 Loss = 8.82935623451998e-05\n",
            "Epoch 320 Loss = 7.496269085299053e-05\n",
            "Epoch 340 Loss = 6.717626744786651e-05\n",
            "Epoch 360 Loss = 6.206806740602548e-05\n",
            "Epoch 380 Loss = 5.861803391409044e-05\n",
            "Epoch 400 Loss = 5.615937002595734e-05\n",
            "Epoch 420 Loss = 5.429361564631993e-05\n",
            "Epoch 440 Loss = 5.2886008616538616e-05\n",
            "Epoch 460 Loss = 5.1731525178403746e-05\n",
            "Epoch 480 Loss = 5.0958913873490035e-05\n",
            "Epoch 500 Loss = 5.013253656245042e-05\n"
          ],
          "name": "stdout"
        }
      ]
    },
    {
      "cell_type": "code",
      "metadata": {
        "id": "avMnM5g4YAAi",
        "colab_type": "code",
        "outputId": "d207456c-d6a8-45c4-809a-4488fc0d97e1",
        "colab": {
          "base_uri": "https://localhost:8080/",
          "height": 269
        }
      },
      "source": [
        "x_fun = np.expand_dims(np.linspace(-1.0*np.pi, 1.0*np.pi, num=2000), axis=1)\n",
        "activations, y_pred = forward(x_fun, model)\n",
        "plot_data(x_fun.squeeze(), None, y_pred.squeeze())"
      ],
      "execution_count": 0,
      "outputs": [
        {
          "output_type": "display_data",
          "data": {
            "image/png": "[encoded data removed]",
            "text/plain": [
              "<Figure size 432x288 with 1 Axes>"
            ]
          },
          "metadata": {
            "tags": []
          }
        }
      ]
    }
  ]
}